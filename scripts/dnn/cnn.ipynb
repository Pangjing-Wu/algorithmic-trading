{
 "metadata": {
  "language_info": {
   "codemirror_mode": {
    "name": "ipython",
    "version": 3
   },
   "file_extension": ".py",
   "mimetype": "text/x-python",
   "name": "python",
   "nbconvert_exporter": "python",
   "pygments_lexer": "ipython3",
   "version": "3.7.10"
  },
  "orig_nbformat": 2,
  "kernelspec": {
   "name": "python3710jvsc74a57bd0e7a07bc5694825fd347e1546deaf40011a47297282d2d7bed5a67d8bf30c9ad8",
   "display_name": "Python 3.7.10 64-bit ('pytorch17': conda)"
  },
  "metadata": {
   "interpreter": {
    "hash": "e7a07bc5694825fd347e1546deaf40011a47297282d2d7bed5a67d8bf30c9ad8"
   }
  }
 },
 "nbformat": 4,
 "nbformat_minor": 2,
 "cells": [
  {
   "cell_type": "code",
   "execution_count": 12,
   "metadata": {},
   "outputs": [],
   "source": [
    "import numpy as np \n",
    "import torch\n",
    "import torch.nn as nn\n",
    "import torch.nn.functional as F\n",
    "from torch.utils.data import DataLoader\n",
    "from torchvision import datasets"
   ]
  },
  {
   "source": [
    "# NOTE current order of orderbook is ask1 ,bid1, ask2, bid2, which performs better than the ragular form.\n",
    "# 股票预测很容易被local minimum卡住，需要更小的学习率"
   ],
   "cell_type": "code",
   "metadata": {},
   "execution_count": 13,
   "outputs": []
  },
  {
   "cell_type": "code",
   "execution_count": 14,
   "metadata": {},
   "outputs": [
    {
     "output_type": "execute_result",
     "data": {
      "text/plain": [
       "((2, 54890, 20, 20), (54890,), (2, 13908, 20, 20), (13908,))"
      ]
     },
     "metadata": {},
     "execution_count": 14
    }
   ],
   "source": [
    "# X shape = ([price, volume], N, time_span, level)\n",
    "# y shape = (N) binary label\n",
    "i      = 5\n",
    "stock  = 600030\n",
    "Xtrain = np.load(f'dataset/{stock}-{i}.train.X.npy')\n",
    "Ytrain = np.load(f'dataset/{stock}-{i}.train.y.npy')\n",
    "Xtest  = np.load(f'dataset/{stock}-{i}.test.X.npy')\n",
    "Ytest  = np.load(f'dataset/{stock}-{i}.test.y.npy')\n",
    "Xtrain = np.log10(Xtrain + 1)\n",
    "Xtest  = np.log10(Xtest + 1)\n",
    "Xtrain.shape, Ytrain.shape, Xtest.shape, Ytest.shape"
   ]
  },
  {
   "cell_type": "code",
   "execution_count": 15,
   "metadata": {},
   "outputs": [
    {
     "output_type": "execute_result",
     "data": {
      "text/plain": [
       "(tensor(1.2160), tensor(0.2207), tensor(5.0854), tensor(0.9532))"
      ]
     },
     "metadata": {},
     "execution_count": 15
    }
   ],
   "source": [
    "Xtrain = torch.from_numpy(Xtrain).float().permute(1, 0, 2, 3)\n",
    "Ytrain = torch.from_numpy(Ytrain).long()\n",
    "Xtest  = torch.from_numpy(Xtest).float().permute(1, 0, 2, 3)\n",
    "Ytest  = torch.from_numpy(Ytest).long()\n",
    "\n",
    "\n",
    "#Xtrain.shape, Ytrain.shape, Xtest.shape, Ytest.shape\n",
    "Xtrain[:,0].mean(), Xtrain[:,0].std(), Xtrain[:,1].mean(), Xtrain[:,1].std()"
   ]
  },
  {
   "cell_type": "code",
   "execution_count": 16,
   "metadata": {},
   "outputs": [],
   "source": [
    "trainset = torch.utils.data.TensorDataset(Xtrain, Ytrain)\n",
    "testset = torch.utils.data.TensorDataset(Xtest, Ytest)\n",
    "\n",
    "# Create data loaders.\n",
    "batch_size = 128\n",
    "train_dataloader = DataLoader(trainset, batch_size=batch_size)\n",
    "test_dataloader = DataLoader(testset, batch_size=batch_size)"
   ]
  },
  {
   "cell_type": "code",
   "execution_count": 17,
   "metadata": {},
   "outputs": [],
   "source": [
    "class CNN(nn.Module):\n",
    "    def __init__(self):\n",
    "        super().__init__()\n",
    "        self.convlayer = nn.Sequential(\n",
    "            nn.Conv2d(2, 10, 3, 1, 1),\n",
    "            nn.ReLU(),\n",
    "            nn.BatchNorm2d(10),\n",
    "            nn.MaxPool2d(2, 2),\n",
    "            nn.Conv2d(10, 20, 5, 1, 2),\n",
    "            nn.ReLU(),\n",
    "            nn.BatchNorm2d(20)\n",
    "        )\n",
    "        self.flatten = nn.Flatten()\n",
    "        self.linear_relu_stack = nn.Sequential(\n",
    "            nn.Linear(2000, 64),\n",
    "            nn.ReLU(),\n",
    "            nn.Linear(64, 2),\n",
    "            nn.ReLU(),\n",
    "        )\n",
    "\n",
    "    def forward(self, x):\n",
    "        x = self.convlayer(x)\n",
    "        x = self.flatten(x)\n",
    "        return self.linear_relu_stack(x)"
   ]
  },
  {
   "cell_type": "code",
   "execution_count": 18,
   "metadata": {},
   "outputs": [
    {
     "output_type": "stream",
     "name": "stdout",
     "text": [
      "Using cpu device\nCNN(\n  (convlayer): Sequential(\n    (0): Conv2d(2, 10, kernel_size=(3, 3), stride=(1, 1), padding=(1, 1))\n    (1): ReLU()\n    (2): BatchNorm2d(10, eps=1e-05, momentum=0.1, affine=True, track_running_stats=True)\n    (3): MaxPool2d(kernel_size=2, stride=2, padding=0, dilation=1, ceil_mode=False)\n    (4): Conv2d(10, 20, kernel_size=(5, 5), stride=(1, 1), padding=(2, 2))\n    (5): ReLU()\n    (6): BatchNorm2d(20, eps=1e-05, momentum=0.1, affine=True, track_running_stats=True)\n  )\n  (flatten): Flatten(start_dim=1, end_dim=-1)\n  (linear_relu_stack): Sequential(\n    (0): Linear(in_features=2000, out_features=64, bias=True)\n    (1): ReLU()\n    (2): Linear(in_features=64, out_features=2, bias=True)\n    (3): ReLU()\n  )\n)\n"
     ]
    }
   ],
   "source": [
    "# device = \"cuda\" if torch.cuda.is_available() else \"cpu\"\n",
    "device = 'cpu'\n",
    "print(f\"Using {device} device\")\n",
    "\n",
    "torch.manual_seed(0)\n",
    "model = CNN().to(device)\n",
    "print(model)"
   ]
  },
  {
   "cell_type": "code",
   "execution_count": 19,
   "metadata": {},
   "outputs": [],
   "source": [
    "def train(dataloader, model, loss_fn, optimizer):\n",
    "    size = len(dataloader.dataset)\n",
    "    for batch, (X, y) in enumerate(dataloader):\n",
    "        X, y = X.to(device), y.to(device)\n",
    "\n",
    "        # Compute prediction error\n",
    "        pred = model(X)\n",
    "        loss = loss_fn(pred, y)\n",
    "\n",
    "        # Backpropagation\n",
    "        optimizer.zero_grad()\n",
    "        loss.backward()\n",
    "        optimizer.step()\n",
    "\n",
    "        if batch % 100 == 0:\n",
    "            loss, current = loss.item(), batch * len(X)\n",
    "            print(f\"loss: {loss:>7f}  [{current:>5d}/{size:>5d}]\")"
   ]
  },
  {
   "cell_type": "code",
   "execution_count": 20,
   "metadata": {},
   "outputs": [],
   "source": [
    "def test(dataloader, model):\n",
    "    n = len(dataloader.dataset)\n",
    "    model.eval()\n",
    "    test_loss, correct = 0, 0\n",
    "    with torch.no_grad():\n",
    "        for X, y in dataloader:\n",
    "            X, y = X.to(device), y.to(device)\n",
    "            pred = model(X)\n",
    "            test_loss += loss_fn(pred, y).item()\n",
    "            correct += (pred.argmax(1) == y).type(torch.float).sum().item()\n",
    "    test_loss /= n\n",
    "    correct /= n\n",
    "    print(f\"Test Error: \\n Accuracy: {(100*correct):>0.1f}%, Avg loss: {test_loss:>8f} \\n\")"
   ]
  },
  {
   "cell_type": "code",
   "execution_count": 21,
   "metadata": {
    "tags": []
   },
   "outputs": [
    {
     "output_type": "stream",
     "name": "stdout",
     "text": [
      "Epoch 1\n",
      "-------------------------------\n",
      "loss: 0.573915  [    0/54890]\n",
      "loss: 0.734904  [12800/54890]\n",
      "loss: 0.679958  [25600/54890]\n",
      "loss: 0.693262  [38400/54890]\n",
      "loss: 0.688887  [51200/54890]\n",
      "train Test Error: \n",
      " Accuracy: 52.8%, Avg loss: 0.005279 \n",
      "\n",
      "Test Error: \n",
      " Accuracy: 56.1%, Avg loss: 0.005198 \n",
      "\n",
      "Epoch 2\n",
      "-------------------------------\n",
      "loss: 0.632641  [    0/54890]\n",
      "loss: 0.751540  [12800/54890]\n",
      "loss: 0.667265  [25600/54890]\n",
      "loss: 0.691156  [38400/54890]\n",
      "loss: 0.685336  [51200/54890]\n",
      "train Test Error: \n",
      " Accuracy: 56.9%, Avg loss: 0.005192 \n",
      "\n",
      "Test Error: \n",
      " Accuracy: 61.1%, Avg loss: 0.005089 \n",
      "\n",
      "Epoch 3\n",
      "-------------------------------\n",
      "loss: 0.813989  [    0/54890]\n",
      "loss: 0.731143  [12800/54890]\n",
      "loss: 0.664416  [25600/54890]\n",
      "loss: 0.689401  [38400/54890]\n",
      "loss: 0.684720  [51200/54890]\n",
      "train Test Error: \n",
      " Accuracy: 57.6%, Avg loss: 0.005177 \n",
      "\n",
      "Test Error: \n",
      " Accuracy: 61.6%, Avg loss: 0.005082 \n",
      "\n",
      "Epoch 4\n",
      "-------------------------------\n",
      "loss: 0.810627  [    0/54890]\n",
      "loss: 0.715117  [12800/54890]\n",
      "loss: 0.662932  [25600/54890]\n",
      "loss: 0.688413  [38400/54890]\n",
      "loss: 0.684320  [51200/54890]\n",
      "train Test Error: \n",
      " Accuracy: 57.7%, Avg loss: 0.005166 \n",
      "\n",
      "Test Error: \n",
      " Accuracy: 62.2%, Avg loss: 0.005077 \n",
      "\n",
      "Epoch 5\n",
      "-------------------------------\n",
      "loss: 0.809286  [    0/54890]\n",
      "loss: 0.701967  [12800/54890]\n",
      "loss: 0.661559  [25600/54890]\n",
      "loss: 0.687776  [38400/54890]\n",
      "loss: 0.684159  [51200/54890]\n",
      "train Test Error: \n",
      " Accuracy: 57.9%, Avg loss: 0.005158 \n",
      "\n",
      "Test Error: \n",
      " Accuracy: 62.4%, Avg loss: 0.005072 \n",
      "\n",
      "Epoch 6\n",
      "-------------------------------\n",
      "loss: 0.808374  [    0/54890]\n",
      "loss: 0.692820  [12800/54890]\n",
      "loss: 0.660204  [25600/54890]\n",
      "loss: 0.687234  [38400/54890]\n",
      "loss: 0.684024  [51200/54890]\n",
      "train Test Error: \n",
      " Accuracy: 57.9%, Avg loss: 0.005150 \n",
      "\n",
      "Test Error: \n",
      " Accuracy: 62.7%, Avg loss: 0.005067 \n",
      "\n",
      "Epoch 7\n",
      "-------------------------------\n",
      "loss: 0.815049  [    0/54890]\n",
      "loss: 0.686093  [12800/54890]\n"
     ]
    },
    {
     "output_type": "error",
     "ename": "KeyboardInterrupt",
     "evalue": "",
     "traceback": [
      "\u001b[0;31m---------------------------------------------------------------------------\u001b[0m",
      "\u001b[0;31mKeyboardInterrupt\u001b[0m                         Traceback (most recent call last)",
      "\u001b[0;32m<ipython-input-21-476f87a0e2d3>\u001b[0m in \u001b[0;36m<module>\u001b[0;34m\u001b[0m\n\u001b[1;32m      5\u001b[0m \u001b[0;32mfor\u001b[0m \u001b[0mt\u001b[0m \u001b[0;32min\u001b[0m \u001b[0mrange\u001b[0m\u001b[0;34m(\u001b[0m\u001b[0mepochs\u001b[0m\u001b[0;34m)\u001b[0m\u001b[0;34m:\u001b[0m\u001b[0;34m\u001b[0m\u001b[0;34m\u001b[0m\u001b[0m\n\u001b[1;32m      6\u001b[0m     \u001b[0mprint\u001b[0m\u001b[0;34m(\u001b[0m\u001b[0;34mf\"Epoch {t+1}\\n-------------------------------\"\u001b[0m\u001b[0;34m)\u001b[0m\u001b[0;34m\u001b[0m\u001b[0;34m\u001b[0m\u001b[0m\n\u001b[0;32m----> 7\u001b[0;31m     \u001b[0mtrain\u001b[0m\u001b[0;34m(\u001b[0m\u001b[0mtrain_dataloader\u001b[0m\u001b[0;34m,\u001b[0m \u001b[0mmodel\u001b[0m\u001b[0;34m,\u001b[0m \u001b[0mloss_fn\u001b[0m\u001b[0;34m,\u001b[0m \u001b[0moptimizer\u001b[0m\u001b[0;34m)\u001b[0m\u001b[0;34m\u001b[0m\u001b[0;34m\u001b[0m\u001b[0m\n\u001b[0m\u001b[1;32m      8\u001b[0m     \u001b[0mprint\u001b[0m\u001b[0;34m(\u001b[0m\u001b[0;34m\"train \"\u001b[0m\u001b[0;34m,\u001b[0m \u001b[0mend\u001b[0m \u001b[0;34m=\u001b[0m\u001b[0;34m''\u001b[0m\u001b[0;34m)\u001b[0m\u001b[0;34m\u001b[0m\u001b[0;34m\u001b[0m\u001b[0m\n\u001b[1;32m      9\u001b[0m     \u001b[0mtest\u001b[0m\u001b[0;34m(\u001b[0m\u001b[0mtrain_dataloader\u001b[0m\u001b[0;34m,\u001b[0m \u001b[0mmodel\u001b[0m\u001b[0;34m)\u001b[0m\u001b[0;34m\u001b[0m\u001b[0;34m\u001b[0m\u001b[0m\n",
      "\u001b[0;32m<ipython-input-19-809f5fd0a98a>\u001b[0m in \u001b[0;36mtrain\u001b[0;34m(dataloader, model, loss_fn, optimizer)\u001b[0m\n\u001b[1;32m     10\u001b[0m         \u001b[0;31m# Backpropagation\u001b[0m\u001b[0;34m\u001b[0m\u001b[0;34m\u001b[0m\u001b[0;34m\u001b[0m\u001b[0m\n\u001b[1;32m     11\u001b[0m         \u001b[0moptimizer\u001b[0m\u001b[0;34m.\u001b[0m\u001b[0mzero_grad\u001b[0m\u001b[0;34m(\u001b[0m\u001b[0;34m)\u001b[0m\u001b[0;34m\u001b[0m\u001b[0;34m\u001b[0m\u001b[0m\n\u001b[0;32m---> 12\u001b[0;31m         \u001b[0mloss\u001b[0m\u001b[0;34m.\u001b[0m\u001b[0mbackward\u001b[0m\u001b[0;34m(\u001b[0m\u001b[0;34m)\u001b[0m\u001b[0;34m\u001b[0m\u001b[0;34m\u001b[0m\u001b[0m\n\u001b[0m\u001b[1;32m     13\u001b[0m         \u001b[0moptimizer\u001b[0m\u001b[0;34m.\u001b[0m\u001b[0mstep\u001b[0m\u001b[0;34m(\u001b[0m\u001b[0;34m)\u001b[0m\u001b[0;34m\u001b[0m\u001b[0;34m\u001b[0m\u001b[0m\n\u001b[1;32m     14\u001b[0m \u001b[0;34m\u001b[0m\u001b[0m\n",
      "\u001b[0;32m~/miniconda3/envs/pytorch17/lib/python3.7/site-packages/torch/tensor.py\u001b[0m in \u001b[0;36mbackward\u001b[0;34m(self, gradient, retain_graph, create_graph)\u001b[0m\n\u001b[1;32m    219\u001b[0m                 \u001b[0mretain_graph\u001b[0m\u001b[0;34m=\u001b[0m\u001b[0mretain_graph\u001b[0m\u001b[0;34m,\u001b[0m\u001b[0;34m\u001b[0m\u001b[0;34m\u001b[0m\u001b[0m\n\u001b[1;32m    220\u001b[0m                 create_graph=create_graph)\n\u001b[0;32m--> 221\u001b[0;31m         \u001b[0mtorch\u001b[0m\u001b[0;34m.\u001b[0m\u001b[0mautograd\u001b[0m\u001b[0;34m.\u001b[0m\u001b[0mbackward\u001b[0m\u001b[0;34m(\u001b[0m\u001b[0mself\u001b[0m\u001b[0;34m,\u001b[0m \u001b[0mgradient\u001b[0m\u001b[0;34m,\u001b[0m \u001b[0mretain_graph\u001b[0m\u001b[0;34m,\u001b[0m \u001b[0mcreate_graph\u001b[0m\u001b[0;34m)\u001b[0m\u001b[0;34m\u001b[0m\u001b[0;34m\u001b[0m\u001b[0m\n\u001b[0m\u001b[1;32m    222\u001b[0m \u001b[0;34m\u001b[0m\u001b[0m\n\u001b[1;32m    223\u001b[0m     \u001b[0;32mdef\u001b[0m \u001b[0mregister_hook\u001b[0m\u001b[0;34m(\u001b[0m\u001b[0mself\u001b[0m\u001b[0;34m,\u001b[0m \u001b[0mhook\u001b[0m\u001b[0;34m)\u001b[0m\u001b[0;34m:\u001b[0m\u001b[0;34m\u001b[0m\u001b[0;34m\u001b[0m\u001b[0m\n",
      "\u001b[0;32m~/miniconda3/envs/pytorch17/lib/python3.7/site-packages/torch/autograd/__init__.py\u001b[0m in \u001b[0;36mbackward\u001b[0;34m(tensors, grad_tensors, retain_graph, create_graph, grad_variables)\u001b[0m\n\u001b[1;32m    130\u001b[0m     Variable._execution_engine.run_backward(\n\u001b[1;32m    131\u001b[0m         \u001b[0mtensors\u001b[0m\u001b[0;34m,\u001b[0m \u001b[0mgrad_tensors_\u001b[0m\u001b[0;34m,\u001b[0m \u001b[0mretain_graph\u001b[0m\u001b[0;34m,\u001b[0m \u001b[0mcreate_graph\u001b[0m\u001b[0;34m,\u001b[0m\u001b[0;34m\u001b[0m\u001b[0;34m\u001b[0m\u001b[0m\n\u001b[0;32m--> 132\u001b[0;31m         allow_unreachable=True)  # allow_unreachable flag\n\u001b[0m\u001b[1;32m    133\u001b[0m \u001b[0;34m\u001b[0m\u001b[0m\n\u001b[1;32m    134\u001b[0m \u001b[0;34m\u001b[0m\u001b[0m\n",
      "\u001b[0;31mKeyboardInterrupt\u001b[0m: "
     ]
    }
   ],
   "source": [
    "epochs = 100\n",
    "loss_fn = nn.CrossEntropyLoss()\n",
    "optimizer = torch.optim.SGD(model.parameters(), lr=5e-5)\n",
    "\n",
    "for t in range(epochs):\n",
    "    print(f\"Epoch {t+1}\\n-------------------------------\")\n",
    "    train(train_dataloader, model, loss_fn, optimizer)\n",
    "    print(\"train \", end ='')\n",
    "    test(train_dataloader, model)\n",
    "    test(test_dataloader, model)\n",
    "print(\"Done!\")"
   ]
  },
  {
   "cell_type": "code",
   "execution_count": null,
   "metadata": {},
   "outputs": [],
   "source": []
  }
 ]
}