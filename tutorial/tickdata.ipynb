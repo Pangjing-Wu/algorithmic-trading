{
 "cells": [
  {
   "cell_type": "code",
   "execution_count": 1,
   "metadata": {},
   "outputs": [],
   "source": [
    "import sys\n",
    "sys.path.append('../')\n",
    "\n",
    "from tickdata import dataset"
   ]
  },
  {
   "cell_type": "markdown",
   "metadata": {},
   "source": [
    "**dataset()** provides a simplified interface for loading tick data.\n",
    "\n",
    "Users only need to specify _*stock*_ (stock code), _*dbdir*_ (database path), and corresponding _*user*_ (username) and _*psw*_ (password) to load the tick data, which is constructed by **TickData**.\n",
    "\n",
    "We also provide some basic interface setting in **config/data.json** to further customize loading data."
   ]
  },
  {
   "cell_type": "code",
   "execution_count": 2,
   "metadata": {},
   "outputs": [],
   "source": [
    "stock = '000001'\n",
    "dbdir = '~/OneDrive/python-programs/reinforcement-learning/data/20140704'\n",
    "user = 'cra001'\n",
    "password = 'cra001'\n",
    "td = dataset(stock, dbdir, user, password)"
   ]
  },
  {
   "cell_type": "markdown",
   "metadata": {},
   "source": [
    "**TickData** provides abundant attrubutes and functions for data description and further processing data.\n",
    "\n",
    "User can get timestamp series of quote or trade **TickData.quote_timeseries** or **TickData.trade_timeseries**. It returns a **list** sonsist of timestamps that denote the millisecond of a day."
   ]
  },
  {
   "cell_type": "code",
   "execution_count": 12,
   "metadata": {},
   "outputs": [
    {
     "output_type": "execute_result",
     "data": {
      "text/plain": "'[34200000, 34202000, 34204000, 34209000, 34212000, 34214000, 34218000, 34220000, 34223000, 34227000]'"
     },
     "metadata": {},
     "execution_count": 12
    }
   ],
   "source": [
    "\"%s\" % td.quote_timeseries[:10]"
   ]
  },
  {
   "cell_type": "markdown",
   "metadata": {},
   "source": [
    "User can use **TickData.get_quote(oonstructed by **pandas.DataFrame**. Argument _*t*_ can be a **int** timestamp or a **list** of timestamps"
   ]
  },
  {
   "cell_type": "code",
   "execution_count": 4,
   "metadata": {},
   "outputs": [
    {
     "output_type": "execute_result",
     "data": {
      "text/plain": "       time   bid1  bsize1   ask1   asize1   bid2   bsize2   ask2   asize2  \\\n0  34200000  9.960  4000.0  9.970  73699.0  9.950  19500.0  9.980  45600.0   \n\n    bid3  ...    ask8   asize8   bid9   bsize9    ask9    asize9  bid10  \\\n0  9.940  ...  10.040  85160.0  9.880  30600.0  10.050  342440.0  9.870   \n\n   bsize10   ask10  asize10  \n0  45200.0  10.060  51556.0  \n\n[1 rows x 41 columns]",
      "text/html": "<div>\n<style scoped>\n    .dataframe tbody tr th:only-of-type {\n        vertical-align: middle;\n    }\n\n    .dataframe tbody tr th {\n        vertical-align: top;\n    }\n\n    .dataframe thead th {\n        text-align: right;\n    }\n</style>\n<table border=\"1\" class=\"dataframe\">\n  <thead>\n    <tr style=\"text-align: right;\">\n      <th></th>\n      <th>time</th>\n      <th>bid1</th>\n      <th>bsize1</th>\n      <th>ask1</th>\n      <th>asize1</th>\n      <th>bid2</th>\n      <th>bsize2</th>\n      <th>ask2</th>\n      <th>asize2</th>\n      <th>bid3</th>\n      <th>...</th>\n      <th>ask8</th>\n      <th>asize8</th>\n      <th>bid9</th>\n      <th>bsize9</th>\n      <th>ask9</th>\n      <th>asize9</th>\n      <th>bid10</th>\n      <th>bsize10</th>\n      <th>ask10</th>\n      <th>asize10</th>\n    </tr>\n  </thead>\n  <tbody>\n    <tr>\n      <th>0</th>\n      <td>34200000</td>\n      <td>9.960</td>\n      <td>4000.0</td>\n      <td>9.970</td>\n      <td>73699.0</td>\n      <td>9.950</td>\n      <td>19500.0</td>\n      <td>9.980</td>\n      <td>45600.0</td>\n      <td>9.940</td>\n      <td>...</td>\n      <td>10.040</td>\n      <td>85160.0</td>\n      <td>9.880</td>\n      <td>30600.0</td>\n      <td>10.050</td>\n      <td>342440.0</td>\n      <td>9.870</td>\n      <td>45200.0</td>\n      <td>10.060</td>\n      <td>51556.0</td>\n    </tr>\n  </tbody>\n</table>\n<p>1 rows × 41 columns</p>\n</div>"
     },
     "metadata": {},
     "execution_count": 4
    }
   ],
   "source": [
    "td.get_quote(td.quote_timeseries[0])"
   ]
  },
  {
   "cell_type": "code",
   "execution_count": 15,
   "metadata": {},
   "outputs": [
    {
     "output_type": "execute_result",
     "data": {
      "text/plain": "       time   bid1    bsize1   ask1   asize1   bid2   bsize2   ask2   asize2  \\\n0  34200000  9.960    4000.0  9.970  73699.0  9.950  19500.0  9.980  45600.0   \n1  34202000  9.950  110800.0  9.970  44209.0  9.940   7000.0  9.980  96420.0   \n2  34204000  9.950  110800.0  9.970  35209.0  9.940   7000.0  9.980  96420.0   \n3  34209000  9.950  110800.0  9.970  35509.0  9.940   7000.0  9.980  96420.0   \n4  34212000  9.950  110800.0  9.960   1500.0  9.940   7000.0  9.970  35409.0   \n\n    bid3  ...    ask8   asize8   bid9   bsize9    ask9    asize9  bid10  \\\n0  9.940  ...  10.040  85160.0  9.880  30600.0  10.050  342440.0  9.870   \n1  9.930  ...  10.040  93460.0  9.870  49600.0  10.050  347890.0  9.860   \n2  9.930  ...  10.040  93460.0  9.870  49600.0  10.050  347890.0  9.860   \n3  9.930  ...  10.040  93460.0  9.870  49700.0  10.050  347890.0  9.860   \n4  9.930  ...  10.030  96800.0  9.870  49700.0  10.040   93460.0  9.860   \n\n   bsize10   ask10   asize10  \n0  45200.0  10.060   51556.0  \n1  38200.0  10.060   54256.0  \n2  38200.0  10.060   54256.0  \n3  38200.0  10.060   54256.0  \n4  38200.0  10.050  347890.0  \n\n[5 rows x 41 columns]",
      "text/html": "<div>\n<style scoped>\n    .dataframe tbody tr th:only-of-type {\n        vertical-align: middle;\n    }\n\n    .dataframe tbody tr th {\n        vertical-align: top;\n    }\n\n    .dataframe thead th {\n        text-align: right;\n    }\n</style>\n<table border=\"1\" class=\"dataframe\">\n  <thead>\n    <tr style=\"text-align: right;\">\n      <th></th>\n      <th>time</th>\n      <th>bid1</th>\n      <th>bsize1</th>\n      <th>ask1</th>\n      <th>asize1</th>\n      <th>bid2</th>\n      <th>bsize2</th>\n      <th>ask2</th>\n      <th>asize2</th>\n      <th>bid3</th>\n      <th>...</th>\n      <th>ask8</th>\n      <th>asize8</th>\n      <th>bid9</th>\n      <th>bsize9</th>\n      <th>ask9</th>\n      <th>asize9</th>\n      <th>bid10</th>\n      <th>bsize10</th>\n      <th>ask10</th>\n      <th>asize10</th>\n    </tr>\n  </thead>\n  <tbody>\n    <tr>\n      <th>0</th>\n      <td>34200000</td>\n      <td>9.960</td>\n      <td>4000.0</td>\n      <td>9.970</td>\n      <td>73699.0</td>\n      <td>9.950</td>\n      <td>19500.0</td>\n      <td>9.980</td>\n      <td>45600.0</td>\n      <td>9.940</td>\n      <td>...</td>\n      <td>10.040</td>\n      <td>85160.0</td>\n      <td>9.880</td>\n      <td>30600.0</td>\n      <td>10.050</td>\n      <td>342440.0</td>\n      <td>9.870</td>\n      <td>45200.0</td>\n      <td>10.060</td>\n      <td>51556.0</td>\n    </tr>\n    <tr>\n      <th>1</th>\n      <td>34202000</td>\n      <td>9.950</td>\n      <td>110800.0</td>\n      <td>9.970</td>\n      <td>44209.0</td>\n      <td>9.940</td>\n      <td>7000.0</td>\n      <td>9.980</td>\n      <td>96420.0</td>\n      <td>9.930</td>\n      <td>...</td>\n      <td>10.040</td>\n      <td>93460.0</td>\n      <td>9.870</td>\n      <td>49600.0</td>\n      <td>10.050</td>\n      <td>347890.0</td>\n      <td>9.860</td>\n      <td>38200.0</td>\n      <td>10.060</td>\n      <td>54256.0</td>\n    </tr>\n    <tr>\n      <th>2</th>\n      <td>34204000</td>\n      <td>9.950</td>\n      <td>110800.0</td>\n      <td>9.970</td>\n      <td>35209.0</td>\n      <td>9.940</td>\n      <td>7000.0</td>\n      <td>9.980</td>\n      <td>96420.0</td>\n      <td>9.930</td>\n      <td>...</td>\n      <td>10.040</td>\n      <td>93460.0</td>\n      <td>9.870</td>\n      <td>49600.0</td>\n      <td>10.050</td>\n      <td>347890.0</td>\n      <td>9.860</td>\n      <td>38200.0</td>\n      <td>10.060</td>\n      <td>54256.0</td>\n    </tr>\n    <tr>\n      <th>3</th>\n      <td>34209000</td>\n      <td>9.950</td>\n      <td>110800.0</td>\n      <td>9.970</td>\n      <td>35509.0</td>\n      <td>9.940</td>\n      <td>7000.0</td>\n      <td>9.980</td>\n      <td>96420.0</td>\n      <td>9.930</td>\n      <td>...</td>\n      <td>10.040</td>\n      <td>93460.0</td>\n      <td>9.870</td>\n      <td>49700.0</td>\n      <td>10.050</td>\n      <td>347890.0</td>\n      <td>9.860</td>\n      <td>38200.0</td>\n      <td>10.060</td>\n      <td>54256.0</td>\n    </tr>\n    <tr>\n      <th>4</th>\n      <td>34212000</td>\n      <td>9.950</td>\n      <td>110800.0</td>\n      <td>9.960</td>\n      <td>1500.0</td>\n      <td>9.940</td>\n      <td>7000.0</td>\n      <td>9.970</td>\n      <td>35409.0</td>\n      <td>9.930</td>\n      <td>...</td>\n      <td>10.030</td>\n      <td>96800.0</td>\n      <td>9.870</td>\n      <td>49700.0</td>\n      <td>10.040</td>\n      <td>93460.0</td>\n      <td>9.860</td>\n      <td>38200.0</td>\n      <td>10.050</td>\n      <td>347890.0</td>\n    </tr>\n  </tbody>\n</table>\n<p>5 rows × 41 columns</p>\n</div>"
     },
     "metadata": {},
     "execution_count": 15
    }
   ],
   "source": [
    "td.get_quote(td.quote_timeseries[:5])"
   ]
  },
  {
   "cell_type": "markdown",
   "metadata": {},
   "source": [
    "If _*t*_ is not given, it will load all of the quote data. The usage of **TickData.get_trade** to get specified trade data is the same as **TickData.get_quote**."
   ]
  },
  {
   "cell_type": "markdown",
   "metadata": {},
   "source": [
    "Use **TickData.pre_quote(t)** to get previous **one** quote of _*t*_, which can be a timestamp _*str*_ or a quote _*pandas.DataFrame*_. If there is no previous quote data, return _*None*_."
   ]
  },
  {
   "cell_type": "code",
   "execution_count": 14,
   "metadata": {},
   "outputs": [
    {
     "output_type": "execute_result",
     "data": {
      "text/plain": "          time   bid1    bsize1   ask1    asize1   bid2    bsize2   ask2  \\\n0     34200000  9.960    4000.0  9.970   73699.0  9.950   19500.0  9.980   \n1     34202000  9.950  110800.0  9.970   44209.0  9.940    7000.0  9.980   \n2     34204000  9.950  110800.0  9.970   35209.0  9.940    7000.0  9.980   \n3     34209000  9.950  110800.0  9.970   35509.0  9.940    7000.0  9.980   \n4     34212000  9.950  110800.0  9.960    1500.0  9.940    7000.0  9.970   \n...        ...    ...       ...    ...       ...    ...       ...    ...   \n4736  53987000  9.910  215345.0  9.910  215345.0  0.000  173555.0  0.000   \n4737  53990000  9.910  218545.0  9.910  218545.0  0.000  171555.0  0.000   \n4738  53993000  9.910  218545.0  9.910  218545.0  0.000  171555.0  0.000   \n4739  53997000  9.910  218545.0  9.910  218545.0  0.000  171555.0  0.000   \n4740  53999000  9.910  218545.0  9.910  218545.0  0.000  234855.0  0.000   \n\n       asize2   bid3  ...    ask8   asize8   bid9   bsize9    ask9    asize9  \\\n0     45600.0  9.940  ...  10.040  85160.0  9.880  30600.0  10.050  342440.0   \n1     96420.0  9.930  ...  10.040  93460.0  9.870  49600.0  10.050  347890.0   \n2     96420.0  9.930  ...  10.040  93460.0  9.870  49600.0  10.050  347890.0   \n3     96420.0  9.930  ...  10.040  93460.0  9.870  49700.0  10.050  347890.0   \n4     35409.0  9.930  ...  10.030  96800.0  9.870  49700.0  10.040   93460.0   \n...       ...    ...  ...     ...      ...    ...      ...     ...       ...   \n4736      0.0  0.000  ...   0.000      0.0  0.000      0.0   0.000       0.0   \n4737      0.0  0.000  ...   0.000      0.0  0.000      0.0   0.000       0.0   \n4738      0.0  0.000  ...   0.000      0.0  0.000      0.0   0.000       0.0   \n4739      0.0  0.000  ...   0.000      0.0  0.000      0.0   0.000       0.0   \n4740      0.0  0.000  ...   0.000      0.0  0.000      0.0   0.000       0.0   \n\n      bid10  bsize10   ask10   asize10  \n0     9.870  45200.0  10.060   51556.0  \n1     9.860  38200.0  10.060   54256.0  \n2     9.860  38200.0  10.060   54256.0  \n3     9.860  38200.0  10.060   54256.0  \n4     9.860  38200.0  10.050  347890.0  \n...     ...      ...     ...       ...  \n4736  0.000      0.0   0.000       0.0  \n4737  0.000      0.0   0.000       0.0  \n4738  0.000      0.0   0.000       0.0  \n4739  0.000      0.0   0.000       0.0  \n4740  0.000      0.0   0.000       0.0  \n\n[4741 rows x 41 columns]",
      "text/html": "<div>\n<style scoped>\n    .dataframe tbody tr th:only-of-type {\n        vertical-align: middle;\n    }\n\n    .dataframe tbody tr th {\n        vertical-align: top;\n    }\n\n    .dataframe thead th {\n        text-align: right;\n    }\n</style>\n<table border=\"1\" class=\"dataframe\">\n  <thead>\n    <tr style=\"text-align: right;\">\n      <th></th>\n      <th>time</th>\n      <th>bid1</th>\n      <th>bsize1</th>\n      <th>ask1</th>\n      <th>asize1</th>\n      <th>bid2</th>\n      <th>bsize2</th>\n      <th>ask2</th>\n      <th>asize2</th>\n      <th>bid3</th>\n      <th>...</th>\n      <th>ask8</th>\n      <th>asize8</th>\n      <th>bid9</th>\n      <th>bsize9</th>\n      <th>ask9</th>\n      <th>asize9</th>\n      <th>bid10</th>\n      <th>bsize10</th>\n      <th>ask10</th>\n      <th>asize10</th>\n    </tr>\n  </thead>\n  <tbody>\n    <tr>\n      <th>0</th>\n      <td>34200000</td>\n      <td>9.960</td>\n      <td>4000.0</td>\n      <td>9.970</td>\n      <td>73699.0</td>\n      <td>9.950</td>\n      <td>19500.0</td>\n      <td>9.980</td>\n      <td>45600.0</td>\n      <td>9.940</td>\n      <td>...</td>\n      <td>10.040</td>\n      <td>85160.0</td>\n      <td>9.880</td>\n      <td>30600.0</td>\n      <td>10.050</td>\n      <td>342440.0</td>\n      <td>9.870</td>\n      <td>45200.0</td>\n      <td>10.060</td>\n      <td>51556.0</td>\n    </tr>\n    <tr>\n      <th>1</th>\n      <td>34202000</td>\n      <td>9.950</td>\n      <td>110800.0</td>\n      <td>9.970</td>\n      <td>44209.0</td>\n      <td>9.940</td>\n      <td>7000.0</td>\n      <td>9.980</td>\n      <td>96420.0</td>\n      <td>9.930</td>\n      <td>...</td>\n      <td>10.040</td>\n      <td>93460.0</td>\n      <td>9.870</td>\n      <td>49600.0</td>\n      <td>10.050</td>\n      <td>347890.0</td>\n      <td>9.860</td>\n      <td>38200.0</td>\n      <td>10.060</td>\n      <td>54256.0</td>\n    </tr>\n    <tr>\n      <th>2</th>\n      <td>34204000</td>\n      <td>9.950</td>\n      <td>110800.0</td>\n      <td>9.970</td>\n      <td>35209.0</td>\n      <td>9.940</td>\n      <td>7000.0</td>\n      <td>9.980</td>\n      <td>96420.0</td>\n      <td>9.930</td>\n      <td>...</td>\n      <td>10.040</td>\n      <td>93460.0</td>\n      <td>9.870</td>\n      <td>49600.0</td>\n      <td>10.050</td>\n      <td>347890.0</td>\n      <td>9.860</td>\n      <td>38200.0</td>\n      <td>10.060</td>\n      <td>54256.0</td>\n    </tr>\n    <tr>\n      <th>3</th>\n      <td>34209000</td>\n      <td>9.950</td>\n      <td>110800.0</td>\n      <td>9.970</td>\n      <td>35509.0</td>\n      <td>9.940</td>\n      <td>7000.0</td>\n      <td>9.980</td>\n      <td>96420.0</td>\n      <td>9.930</td>\n      <td>...</td>\n      <td>10.040</td>\n      <td>93460.0</td>\n      <td>9.870</td>\n      <td>49700.0</td>\n      <td>10.050</td>\n      <td>347890.0</td>\n      <td>9.860</td>\n      <td>38200.0</td>\n      <td>10.060</td>\n      <td>54256.0</td>\n    </tr>\n    <tr>\n      <th>4</th>\n      <td>34212000</td>\n      <td>9.950</td>\n      <td>110800.0</td>\n      <td>9.960</td>\n      <td>1500.0</td>\n      <td>9.940</td>\n      <td>7000.0</td>\n      <td>9.970</td>\n      <td>35409.0</td>\n      <td>9.930</td>\n      <td>...</td>\n      <td>10.030</td>\n      <td>96800.0</td>\n      <td>9.870</td>\n      <td>49700.0</td>\n      <td>10.040</td>\n      <td>93460.0</td>\n      <td>9.860</td>\n      <td>38200.0</td>\n      <td>10.050</td>\n      <td>347890.0</td>\n    </tr>\n    <tr>\n      <th>...</th>\n      <td>...</td>\n      <td>...</td>\n      <td>...</td>\n      <td>...</td>\n      <td>...</td>\n      <td>...</td>\n      <td>...</td>\n      <td>...</td>\n      <td>...</td>\n      <td>...</td>\n      <td>...</td>\n      <td>...</td>\n      <td>...</td>\n      <td>...</td>\n      <td>...</td>\n      <td>...</td>\n      <td>...</td>\n      <td>...</td>\n      <td>...</td>\n      <td>...</td>\n      <td>...</td>\n    </tr>\n    <tr>\n      <th>4736</th>\n      <td>53987000</td>\n      <td>9.910</td>\n      <td>215345.0</td>\n      <td>9.910</td>\n      <td>215345.0</td>\n      <td>0.000</td>\n      <td>173555.0</td>\n      <td>0.000</td>\n      <td>0.0</td>\n      <td>0.000</td>\n      <td>...</td>\n      <td>0.000</td>\n      <td>0.0</td>\n      <td>0.000</td>\n      <td>0.0</td>\n      <td>0.000</td>\n      <td>0.0</td>\n      <td>0.000</td>\n      <td>0.0</td>\n      <td>0.000</td>\n      <td>0.0</td>\n    </tr>\n    <tr>\n      <th>4737</th>\n      <td>53990000</td>\n      <td>9.910</td>\n      <td>218545.0</td>\n      <td>9.910</td>\n      <td>218545.0</td>\n      <td>0.000</td>\n      <td>171555.0</td>\n      <td>0.000</td>\n      <td>0.0</td>\n      <td>0.000</td>\n      <td>...</td>\n      <td>0.000</td>\n      <td>0.0</td>\n      <td>0.000</td>\n      <td>0.0</td>\n      <td>0.000</td>\n      <td>0.0</td>\n      <td>0.000</td>\n      <td>0.0</td>\n      <td>0.000</td>\n      <td>0.0</td>\n    </tr>\n    <tr>\n      <th>4738</th>\n      <td>53993000</td>\n      <td>9.910</td>\n      <td>218545.0</td>\n      <td>9.910</td>\n      <td>218545.0</td>\n      <td>0.000</td>\n      <td>171555.0</td>\n      <td>0.000</td>\n      <td>0.0</td>\n      <td>0.000</td>\n      <td>...</td>\n      <td>0.000</td>\n      <td>0.0</td>\n      <td>0.000</td>\n      <td>0.0</td>\n      <td>0.000</td>\n      <td>0.0</td>\n      <td>0.000</td>\n      <td>0.0</td>\n      <td>0.000</td>\n      <td>0.0</td>\n    </tr>\n    <tr>\n      <th>4739</th>\n      <td>53997000</td>\n      <td>9.910</td>\n      <td>218545.0</td>\n      <td>9.910</td>\n      <td>218545.0</td>\n      <td>0.000</td>\n      <td>171555.0</td>\n      <td>0.000</td>\n      <td>0.0</td>\n      <td>0.000</td>\n      <td>...</td>\n      <td>0.000</td>\n      <td>0.0</td>\n      <td>0.000</td>\n      <td>0.0</td>\n      <td>0.000</td>\n      <td>0.0</td>\n      <td>0.000</td>\n      <td>0.0</td>\n      <td>0.000</td>\n      <td>0.0</td>\n    </tr>\n    <tr>\n      <th>4740</th>\n      <td>53999000</td>\n      <td>9.910</td>\n      <td>218545.0</td>\n      <td>9.910</td>\n      <td>218545.0</td>\n      <td>0.000</td>\n      <td>234855.0</td>\n      <td>0.000</td>\n      <td>0.0</td>\n      <td>0.000</td>\n      <td>...</td>\n      <td>0.000</td>\n      <td>0.0</td>\n      <td>0.000</td>\n      <td>0.0</td>\n      <td>0.000</td>\n      <td>0.0</td>\n      <td>0.000</td>\n      <td>0.0</td>\n      <td>0.000</td>\n      <td>0.0</td>\n    </tr>\n  </tbody>\n</table>\n<p>4741 rows × 41 columns</p>\n</div>"
     },
     "metadata": {},
     "execution_count": 14
    }
   ],
   "source": [
    "td.get_quote()"
   ]
  },
  {
   "cell_type": "code",
   "execution_count": null,
   "metadata": {},
   "outputs": [],
   "source": []
  },
  {
   "cell_type": "markdown",
   "metadata": {},
   "source": [
    "Use **TickData.next_quote(t)** to get next **one** quote of _*t*_. The usage of it is similar to **TickData.previous_quote(t)**"
   ]
  },
  {
   "cell_type": "code",
   "execution_count": null,
   "metadata": {},
   "outputs": [],
   "source": [
    "td.next_quote(td.quote_timeseries[0])"
   ]
  },
  {
   "cell_type": "markdown",
   "metadata": {},
   "source": [
    "Use **get_trade_between(pre_quote, post_quote)** to get trade **pandas.DataFrame** between _*pre_quote*_ and _*post_quote*_, which can be timestamp _*str*_ or _*quote pandas.DataFrame*_. If _*post_quote*_ is not specified, it will automaticly select the next quote after _*pre_quote*_."
   ]
  },
  {
   "cell_type": "code",
   "execution_count": 5,
   "metadata": {},
   "outputs": [],
   "source": [
    "td.pre_quote(td.quote_timeseries[0])"
   ]
  },
  {
   "cell_type": "markdown",
   "metadata": {},
   "source": [
    "Use **TickData.trade_sum(trade)** to group trade data by their price, _*i.e.,*_ combine trade data size of the same price."
   ]
  },
  {
   "cell_type": "code",
   "execution_count": 7,
   "metadata": {},
   "outputs": [
    {
     "output_type": "execute_result",
     "data": {
      "text/plain": "       time   bid1    bsize1   ask1   asize1   bid2  bsize2   ask2   asize2  \\\n1  34202000  9.950  110800.0  9.970  44209.0  9.940  7000.0  9.980  96420.0   \n\n    bid3  ...    ask8   asize8   bid9   bsize9    ask9    asize9  bid10  \\\n1  9.930  ...  10.040  93460.0  9.870  49600.0  10.050  347890.0  9.860   \n\n   bsize10   ask10  asize10  \n1  38200.0  10.060  54256.0  \n\n[1 rows x 41 columns]",
      "text/html": "<div>\n<style scoped>\n    .dataframe tbody tr th:only-of-type {\n        vertical-align: middle;\n    }\n\n    .dataframe tbody tr th {\n        vertical-align: top;\n    }\n\n    .dataframe thead th {\n        text-align: right;\n    }\n</style>\n<table border=\"1\" class=\"dataframe\">\n  <thead>\n    <tr style=\"text-align: right;\">\n      <th></th>\n      <th>time</th>\n      <th>bid1</th>\n      <th>bsize1</th>\n      <th>ask1</th>\n      <th>asize1</th>\n      <th>bid2</th>\n      <th>bsize2</th>\n      <th>ask2</th>\n      <th>asize2</th>\n      <th>bid3</th>\n      <th>...</th>\n      <th>ask8</th>\n      <th>asize8</th>\n      <th>bid9</th>\n      <th>bsize9</th>\n      <th>ask9</th>\n      <th>asize9</th>\n      <th>bid10</th>\n      <th>bsize10</th>\n      <th>ask10</th>\n      <th>asize10</th>\n    </tr>\n  </thead>\n  <tbody>\n    <tr>\n      <th>1</th>\n      <td>34202000</td>\n      <td>9.950</td>\n      <td>110800.0</td>\n      <td>9.970</td>\n      <td>44209.0</td>\n      <td>9.940</td>\n      <td>7000.0</td>\n      <td>9.980</td>\n      <td>96420.0</td>\n      <td>9.930</td>\n      <td>...</td>\n      <td>10.040</td>\n      <td>93460.0</td>\n      <td>9.870</td>\n      <td>49600.0</td>\n      <td>10.050</td>\n      <td>347890.0</td>\n      <td>9.860</td>\n      <td>38200.0</td>\n      <td>10.060</td>\n      <td>54256.0</td>\n    </tr>\n  </tbody>\n</table>\n<p>1 rows × 41 columns</p>\n</div>"
     },
     "metadata": {},
     "execution_count": 7
    }
   ],
   "source": [
    "td.pre_quote(td.quote_timeseries[2])"
   ]
  },
  {
   "cell_type": "code",
   "execution_count": 10,
   "metadata": {},
   "outputs": [
    {
     "output_type": "execute_result",
     "data": {
      "text/plain": "        time  price     size\n0   34200150  9.960    200.0\n1   34200150  9.960   1000.0\n2   34200150  9.960   1100.0\n3   34200160  9.960   5000.0\n4   34200180  9.970    100.0\n..       ...    ...      ...\n56  34201640  9.970  15991.0\n57  34201640  9.970  23099.0\n58  34201840  9.950    400.0\n59  34201840  9.950   5900.0\n60  34201890  9.970  20000.0\n\n[61 rows x 3 columns]",
      "text/html": "<div>\n<style scoped>\n    .dataframe tbody tr th:only-of-type {\n        vertical-align: middle;\n    }\n\n    .dataframe tbody tr th {\n        vertical-align: top;\n    }\n\n    .dataframe thead th {\n        text-align: right;\n    }\n</style>\n<table border=\"1\" class=\"dataframe\">\n  <thead>\n    <tr style=\"text-align: right;\">\n      <th></th>\n      <th>time</th>\n      <th>price</th>\n      <th>size</th>\n    </tr>\n  </thead>\n  <tbody>\n    <tr>\n      <th>0</th>\n      <td>34200150</td>\n      <td>9.960</td>\n      <td>200.0</td>\n    </tr>\n    <tr>\n      <th>1</th>\n      <td>34200150</td>\n      <td>9.960</td>\n      <td>1000.0</td>\n    </tr>\n    <tr>\n      <th>2</th>\n      <td>34200150</td>\n      <td>9.960</td>\n      <td>1100.0</td>\n    </tr>\n    <tr>\n      <th>3</th>\n      <td>34200160</td>\n      <td>9.960</td>\n      <td>5000.0</td>\n    </tr>\n    <tr>\n      <th>4</th>\n      <td>34200180</td>\n      <td>9.970</td>\n      <td>100.0</td>\n    </tr>\n    <tr>\n      <th>...</th>\n      <td>...</td>\n      <td>...</td>\n      <td>...</td>\n    </tr>\n    <tr>\n      <th>56</th>\n      <td>34201640</td>\n      <td>9.970</td>\n      <td>15991.0</td>\n    </tr>\n    <tr>\n      <th>57</th>\n      <td>34201640</td>\n      <td>9.970</td>\n      <td>23099.0</td>\n    </tr>\n    <tr>\n      <th>58</th>\n      <td>34201840</td>\n      <td>9.950</td>\n      <td>400.0</td>\n    </tr>\n    <tr>\n      <th>59</th>\n      <td>34201840</td>\n      <td>9.950</td>\n      <td>5900.0</td>\n    </tr>\n    <tr>\n      <th>60</th>\n      <td>34201890</td>\n      <td>9.970</td>\n      <td>20000.0</td>\n    </tr>\n  </tbody>\n</table>\n<p>61 rows × 3 columns</p>\n</div>"
     },
     "metadata": {},
     "execution_count": 10
    }
   ],
   "source": [
    "trade = td.get_trade_between(td.quote_timeseries[0])\n",
    "trade"
   ]
  },
  {
   "cell_type": "code",
   "execution_count": 11,
   "metadata": {},
   "outputs": [
    {
     "output_type": "execute_result",
     "data": {
      "text/plain": "   price      size\n0  9.950   11400.0\n1  9.960  133010.0\n2  9.970   83090.0",
      "text/html": "<div>\n<style scoped>\n    .dataframe tbody tr th:only-of-type {\n        vertical-align: middle;\n    }\n\n    .dataframe tbody tr th {\n        vertical-align: top;\n    }\n\n    .dataframe thead th {\n        text-align: right;\n    }\n</style>\n<table border=\"1\" class=\"dataframe\">\n  <thead>\n    <tr style=\"text-align: right;\">\n      <th></th>\n      <th>price</th>\n      <th>size</th>\n    </tr>\n  </thead>\n  <tbody>\n    <tr>\n      <th>0</th>\n      <td>9.950</td>\n      <td>11400.0</td>\n    </tr>\n    <tr>\n      <th>1</th>\n      <td>9.960</td>\n      <td>133010.0</td>\n    </tr>\n    <tr>\n      <th>2</th>\n      <td>9.970</td>\n      <td>83090.0</td>\n    </tr>\n  </tbody>\n</table>\n</div>"
     },
     "metadata": {},
     "execution_count": 11
    }
   ],
   "source": [
    "td.trade_sum(trade)"
   ]
  }
 ],
 "metadata": {
  "language_info": {
   "codemirror_mode": {
    "name": "ipython",
    "version": 3
   },
   "file_extension": ".py",
   "mimetype": "text/x-python",
   "name": "python",
   "nbconvert_exporter": "python",
   "pygments_lexer": "ipython3",
   "version": "3.7.6-final"
  },
  "orig_nbformat": 2,
  "kernelspec": {
   "name": "python37464bitbasecondaf1772ced63134f99ae3e633a07014202",
   "display_name": "Python 3.7.4 64-bit ('base': conda)"
  }
 },
 "nbformat": 4,
 "nbformat_minor": 2
}